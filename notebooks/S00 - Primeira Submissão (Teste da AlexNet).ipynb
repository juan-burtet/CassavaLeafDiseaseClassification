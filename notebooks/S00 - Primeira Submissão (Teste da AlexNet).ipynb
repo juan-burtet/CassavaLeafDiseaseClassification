{
 "cells": [
  {
   "cell_type": "markdown",
   "metadata": {
    "papermill": {
     "duration": 0.008964,
     "end_time": "2020-12-20T21:39:47.999596",
     "exception": false,
     "start_time": "2020-12-20T21:39:47.990632",
     "status": "completed"
    },
    "tags": []
   },
   "source": [
    "# Primeira Submissão de Teste\n",
    "\n",
    "Nesta submissão, foi utilizado o modelo padrão da AlexNet, com os dados pré-treinados. Esse modelo foi treinado durante 100 épocas."
   ]
  },
  {
   "cell_type": "code",
   "execution_count": 1,
   "metadata": {
    "_cell_guid": "b1076dfc-b9ad-4769-8c92-a6c4dae69d19",
    "_uuid": "8f2839f25d086af736a60e9eeb907d3b93b6e0e5",
    "execution": {
     "iopub.execute_input": "2020-12-20T21:39:48.021389Z",
     "iopub.status.busy": "2020-12-20T21:39:48.020534Z",
     "iopub.status.idle": "2020-12-20T21:40:18.292518Z",
     "shell.execute_reply": "2020-12-20T21:40:18.291317Z"
    },
    "papermill": {
     "duration": 30.283208,
     "end_time": "2020-12-20T21:40:18.292653",
     "exception": false,
     "start_time": "2020-12-20T21:39:48.009445",
     "status": "completed"
    },
    "tags": []
   },
   "outputs": [],
   "source": [
    "# This Python 3 environment comes with many helpful analytics libraries installed\n",
    "# It is defined by the kaggle/python Docker image: https://github.com/kaggle/docker-python\n",
    "# For example, here's several helpful packages to load\n",
    "\n",
    "import numpy as np # linear algebra\n",
    "import pandas as pd # data processing, CSV file I/O (e.g. pd.read_csv)\n",
    "\n",
    "# Input data files are available in the read-only \"../input/\" directory\n",
    "# For example, running this (by clicking run or pressing Shift+Enter) will list all files under the input directory\n",
    "\n",
    "import os\n",
    "for dirname, _, filenames in os.walk('/kaggle/input'):\n",
    "    for filename in filenames:\n",
    "        os.path.join(dirname, filename)\n",
    "\n",
    "# You can write up to 20GB to the current directory (/kaggle/working/) that gets preserved as output when you create a version using \"Save & Run All\" \n",
    "# You can also write temporary files to /kaggle/temp/, but they won't be saved outside of the current session"
   ]
  },
  {
   "cell_type": "markdown",
   "metadata": {
    "papermill": {
     "duration": 0.007962,
     "end_time": "2020-12-20T21:40:18.309445",
     "exception": false,
     "start_time": "2020-12-20T21:40:18.301483",
     "status": "completed"
    },
    "tags": []
   },
   "source": [
    "## Importando o fastai"
   ]
  },
  {
   "cell_type": "code",
   "execution_count": 2,
   "metadata": {
    "execution": {
     "iopub.execute_input": "2020-12-20T21:40:18.331519Z",
     "iopub.status.busy": "2020-12-20T21:40:18.330677Z",
     "iopub.status.idle": "2020-12-20T21:40:21.402403Z",
     "shell.execute_reply": "2020-12-20T21:40:21.401532Z"
    },
    "papermill": {
     "duration": 3.084694,
     "end_time": "2020-12-20T21:40:21.402525",
     "exception": false,
     "start_time": "2020-12-20T21:40:18.317831",
     "status": "completed"
    },
    "tags": []
   },
   "outputs": [],
   "source": [
    "from fastai.vision.all import *"
   ]
  },
  {
   "cell_type": "markdown",
   "metadata": {
    "papermill": {
     "duration": 0.007803,
     "end_time": "2020-12-20T21:40:21.419050",
     "exception": false,
     "start_time": "2020-12-20T21:40:21.411247",
     "status": "completed"
    },
    "tags": []
   },
   "source": [
    "## Inicialização do modelo pelo fastai"
   ]
  },
  {
   "cell_type": "code",
   "execution_count": 3,
   "metadata": {
    "execution": {
     "iopub.execute_input": "2020-12-20T21:40:21.444941Z",
     "iopub.status.busy": "2020-12-20T21:40:21.444070Z",
     "iopub.status.idle": "2020-12-20T21:40:25.150477Z",
     "shell.execute_reply": "2020-12-20T21:40:25.151020Z"
    },
    "papermill": {
     "duration": 3.723925,
     "end_time": "2020-12-20T21:40:25.151194",
     "exception": false,
     "start_time": "2020-12-20T21:40:21.427269",
     "status": "completed"
    },
    "tags": []
   },
   "outputs": [],
   "source": [
    "root_path = '/kaggle/input/cassava-leaf-disease-classification/'\n",
    "df_train = pd.read_csv(root_path + 'train.csv')\n",
    "dls = ImageDataLoaders.from_df(df_train, path=root_path+\"train_images/\", item_tfms=Resize(224))\n",
    "learn = cnn_learner(dls, alexnet, metrics=[error_rate,accuracy], pretrained=False)"
   ]
  },
  {
   "cell_type": "markdown",
   "metadata": {
    "papermill": {
     "duration": 0.008023,
     "end_time": "2020-12-20T21:40:25.167757",
     "exception": false,
     "start_time": "2020-12-20T21:40:25.159734",
     "status": "completed"
    },
    "tags": []
   },
   "source": [
    "## Leitura do modelo treinado"
   ]
  },
  {
   "cell_type": "code",
   "execution_count": 4,
   "metadata": {
    "execution": {
     "iopub.execute_input": "2020-12-20T21:40:25.188550Z",
     "iopub.status.busy": "2020-12-20T21:40:25.187524Z",
     "iopub.status.idle": "2020-12-20T21:40:25.620410Z",
     "shell.execute_reply": "2020-12-20T21:40:25.619707Z"
    },
    "papermill": {
     "duration": 0.444348,
     "end_time": "2020-12-20T21:40:25.620528",
     "exception": false,
     "start_time": "2020-12-20T21:40:25.176180",
     "status": "completed"
    },
    "tags": []
   },
   "outputs": [
    {
     "data": {
      "text/plain": [
       "<fastai.learner.Learner at 0x7fa3f5897d50>"
      ]
     },
     "execution_count": 4,
     "metadata": {},
     "output_type": "execute_result"
    }
   ],
   "source": [
    "model_path = '/kaggle/input/primeiro-modelo-treinado'\n",
    "learn.model_dir = model_path\n",
    "learn.load('primeiro_modelo')"
   ]
  },
  {
   "cell_type": "markdown",
   "metadata": {
    "papermill": {
     "duration": 0.008567,
     "end_time": "2020-12-20T21:40:25.638744",
     "exception": false,
     "start_time": "2020-12-20T21:40:25.630177",
     "status": "completed"
    },
    "tags": []
   },
   "source": [
    "## Predição dos dados de teste"
   ]
  },
  {
   "cell_type": "code",
   "execution_count": 5,
   "metadata": {
    "execution": {
     "iopub.execute_input": "2020-12-20T21:40:25.663870Z",
     "iopub.status.busy": "2020-12-20T21:40:25.663194Z",
     "iopub.status.idle": "2020-12-20T21:40:25.890882Z",
     "shell.execute_reply": "2020-12-20T21:40:25.891535Z"
    },
    "papermill": {
     "duration": 0.24402,
     "end_time": "2020-12-20T21:40:25.891722",
     "exception": false,
     "start_time": "2020-12-20T21:40:25.647702",
     "status": "completed"
    },
    "tags": []
   },
   "outputs": [
    {
     "data": {
      "text/html": [],
      "text/plain": [
       "<IPython.core.display.HTML object>"
      ]
     },
     "metadata": {},
     "output_type": "display_data"
    }
   ],
   "source": [
    "test_files = get_image_files('../input/cassava-leaf-disease-classification/test_images')\n",
    "test_dl = learn.dls.test_dl(test_files, with_label=True)\n",
    "pred_probas, x, pred_classes = learn.get_preds(dl=test_dl, with_decoded=True) "
   ]
  },
  {
   "cell_type": "markdown",
   "metadata": {
    "papermill": {
     "duration": 0.00954,
     "end_time": "2020-12-20T21:40:25.912879",
     "exception": false,
     "start_time": "2020-12-20T21:40:25.903339",
     "status": "completed"
    },
    "tags": []
   },
   "source": [
    "## Gravação dos resultados no csv de submissão"
   ]
  },
  {
   "cell_type": "code",
   "execution_count": 6,
   "metadata": {
    "execution": {
     "iopub.execute_input": "2020-12-20T21:40:25.942516Z",
     "iopub.status.busy": "2020-12-20T21:40:25.940425Z",
     "iopub.status.idle": "2020-12-20T21:40:26.266858Z",
     "shell.execute_reply": "2020-12-20T21:40:26.267481Z"
    },
    "papermill": {
     "duration": 0.344346,
     "end_time": "2020-12-20T21:40:26.267639",
     "exception": false,
     "start_time": "2020-12-20T21:40:25.923293",
     "status": "completed"
    },
    "tags": []
   },
   "outputs": [],
   "source": [
    "rows = []\n",
    "for file, label in zip(test_files, pred_classes):\n",
    "    row = {'image_id': os.path.basename(file), 'label': int(label)}\n",
    "    rows.append(row)\n",
    "df = pd.DataFrame(rows)\n",
    "df.to_csv('./submission.csv', index=False)"
   ]
  }
 ],
 "metadata": {
  "kernelspec": {
   "display_name": "Python 3",
   "language": "python",
   "name": "python3"
  },
  "language_info": {
   "codemirror_mode": {
    "name": "ipython",
    "version": 3
   },
   "file_extension": ".py",
   "mimetype": "text/x-python",
   "name": "python",
   "nbconvert_exporter": "python",
   "pygments_lexer": "ipython3",
   "version": "3.7.6"
  },
  "papermill": {
   "duration": 43.822495,
   "end_time": "2020-12-20T21:40:26.385652",
   "environment_variables": {},
   "exception": null,
   "input_path": "__notebook__.ipynb",
   "output_path": "__notebook__.ipynb",
   "parameters": {},
   "start_time": "2020-12-20T21:39:42.563157",
   "version": "2.1.0"
  }
 },
 "nbformat": 4,
 "nbformat_minor": 4
}
