{
 "cells": [
  {
   "cell_type": "markdown",
   "metadata": {
    "papermill": {
     "duration": 0.008701,
     "end_time": "2020-12-21T16:35:20.584605",
     "exception": false,
     "start_time": "2020-12-21T16:35:20.575904",
     "status": "completed"
    },
    "tags": []
   },
   "source": [
    "# Primeira Submissão de Teste\n",
    "\n",
    "Nesta submissão, foi utilizado o modelo padrão da AlexNet, com os dados pré-treinados. Esse modelo foi treinado durante 100 épocas."
   ]
  },
  {
   "cell_type": "code",
   "execution_count": 1,
   "metadata": {
    "_cell_guid": "b1076dfc-b9ad-4769-8c92-a6c4dae69d19",
    "_uuid": "8f2839f25d086af736a60e9eeb907d3b93b6e0e5",
    "execution": {
     "iopub.execute_input": "2020-12-21T16:35:20.606023Z",
     "iopub.status.busy": "2020-12-21T16:35:20.605296Z",
     "iopub.status.idle": "2020-12-21T16:35:35.832493Z",
     "shell.execute_reply": "2020-12-21T16:35:35.833258Z"
    },
    "papermill": {
     "duration": 15.238827,
     "end_time": "2020-12-21T16:35:35.833445",
     "exception": false,
     "start_time": "2020-12-21T16:35:20.594618",
     "status": "completed"
    },
    "tags": []
   },
   "outputs": [],
   "source": [
    "# This Python 3 environment comes with many helpful analytics libraries installed\n",
    "# It is defined by the kaggle/python Docker image: https://github.com/kaggle/docker-python\n",
    "# For example, here's several helpful packages to load\n",
    "\n",
    "import numpy as np # linear algebra\n",
    "import pandas as pd # data processing, CSV file I/O (e.g. pd.read_csv)\n",
    "\n",
    "# Input data files are available in the read-only \"../input/\" directory\n",
    "# For example, running this (by clicking run or pressing Shift+Enter) will list all files under the input directory\n",
    "\n",
    "import os\n",
    "for dirname, _, filenames in os.walk('/kaggle/input'):\n",
    "    for filename in filenames:\n",
    "        os.path.join(dirname, filename)\n",
    "\n",
    "# You can write up to 20GB to the current directory (/kaggle/working/) that gets preserved as output when you create a version using \"Save & Run All\" \n",
    "# You can also write temporary files to /kaggle/temp/, but they won't be saved outside of the current session"
   ]
  },
  {
   "cell_type": "markdown",
   "metadata": {
    "papermill": {
     "duration": 0.007608,
     "end_time": "2020-12-21T16:35:35.849612",
     "exception": false,
     "start_time": "2020-12-21T16:35:35.842004",
     "status": "completed"
    },
    "tags": []
   },
   "source": [
    "## Importando o fastai"
   ]
  },
  {
   "cell_type": "code",
   "execution_count": 2,
   "metadata": {
    "execution": {
     "iopub.execute_input": "2020-12-21T16:35:35.869307Z",
     "iopub.status.busy": "2020-12-21T16:35:35.868568Z",
     "iopub.status.idle": "2020-12-21T16:35:39.272202Z",
     "shell.execute_reply": "2020-12-21T16:35:39.271559Z"
    },
    "papermill": {
     "duration": 3.414409,
     "end_time": "2020-12-21T16:35:39.272342",
     "exception": false,
     "start_time": "2020-12-21T16:35:35.857933",
     "status": "completed"
    },
    "tags": []
   },
   "outputs": [],
   "source": [
    "from fastai.vision.all import *"
   ]
  },
  {
   "cell_type": "markdown",
   "metadata": {
    "papermill": {
     "duration": 0.008014,
     "end_time": "2020-12-21T16:35:39.288863",
     "exception": false,
     "start_time": "2020-12-21T16:35:39.280849",
     "status": "completed"
    },
    "tags": []
   },
   "source": [
    "## Inicialização do modelo pelo fastai"
   ]
  },
  {
   "cell_type": "code",
   "execution_count": 3,
   "metadata": {
    "execution": {
     "iopub.execute_input": "2020-12-21T16:35:39.314159Z",
     "iopub.status.busy": "2020-12-21T16:35:39.313413Z",
     "iopub.status.idle": "2020-12-21T16:35:44.059722Z",
     "shell.execute_reply": "2020-12-21T16:35:44.058802Z"
    },
    "papermill": {
     "duration": 4.762793,
     "end_time": "2020-12-21T16:35:44.059895",
     "exception": false,
     "start_time": "2020-12-21T16:35:39.297102",
     "status": "completed"
    },
    "tags": []
   },
   "outputs": [],
   "source": [
    "root_path = '/kaggle/input/cassava-leaf-disease-classification/'\n",
    "df_train = pd.read_csv(root_path + 'train.csv')\n",
    "dls = ImageDataLoaders.from_df(df_train, path=root_path+\"train_images/\", item_tfms=Resize(224))\n",
    "learn = cnn_learner(dls, resnet152, metrics=[error_rate,accuracy], pretrained=False)"
   ]
  },
  {
   "cell_type": "markdown",
   "metadata": {
    "papermill": {
     "duration": 0.008508,
     "end_time": "2020-12-21T16:35:44.078547",
     "exception": false,
     "start_time": "2020-12-21T16:35:44.070039",
     "status": "completed"
    },
    "tags": []
   },
   "source": [
    "## Leitura do modelo treinado"
   ]
  },
  {
   "cell_type": "code",
   "execution_count": 4,
   "metadata": {
    "execution": {
     "iopub.execute_input": "2020-12-21T16:35:44.100016Z",
     "iopub.status.busy": "2020-12-21T16:35:44.098987Z",
     "iopub.status.idle": "2020-12-21T16:35:56.629053Z",
     "shell.execute_reply": "2020-12-21T16:35:56.627724Z"
    },
    "papermill": {
     "duration": 12.542183,
     "end_time": "2020-12-21T16:35:56.629224",
     "exception": false,
     "start_time": "2020-12-21T16:35:44.087041",
     "status": "completed"
    },
    "tags": []
   },
   "outputs": [
    {
     "data": {
      "text/plain": [
       "<fastai.learner.Learner at 0x7fbb8f389c50>"
      ]
     },
     "execution_count": 4,
     "metadata": {},
     "output_type": "execute_result"
    }
   ],
   "source": [
    "model_path = '/kaggle/input/models-analise'\n",
    "learn.model_dir = model_path\n",
    "learn.load('resnet152_tune_10')"
   ]
  },
  {
   "cell_type": "markdown",
   "metadata": {
    "papermill": {
     "duration": 0.013601,
     "end_time": "2020-12-21T16:35:56.656562",
     "exception": false,
     "start_time": "2020-12-21T16:35:56.642961",
     "status": "completed"
    },
    "tags": []
   },
   "source": [
    "## Predição dos dados de teste"
   ]
  },
  {
   "cell_type": "code",
   "execution_count": 5,
   "metadata": {
    "execution": {
     "iopub.execute_input": "2020-12-21T16:35:56.690511Z",
     "iopub.status.busy": "2020-12-21T16:35:56.689452Z",
     "iopub.status.idle": "2020-12-21T16:35:57.506694Z",
     "shell.execute_reply": "2020-12-21T16:35:57.506089Z"
    },
    "papermill": {
     "duration": 0.835812,
     "end_time": "2020-12-21T16:35:57.506840",
     "exception": false,
     "start_time": "2020-12-21T16:35:56.671028",
     "status": "completed"
    },
    "tags": []
   },
   "outputs": [
    {
     "data": {
      "text/html": [],
      "text/plain": [
       "<IPython.core.display.HTML object>"
      ]
     },
     "metadata": {},
     "output_type": "display_data"
    }
   ],
   "source": [
    "test_files = get_image_files('../input/cassava-leaf-disease-classification/test_images')\n",
    "test_dl = learn.dls.test_dl(test_files, with_label=True)\n",
    "pred_probas, x, pred_classes = learn.get_preds(dl=test_dl, with_decoded=True) "
   ]
  },
  {
   "cell_type": "markdown",
   "metadata": {
    "papermill": {
     "duration": 0.009331,
     "end_time": "2020-12-21T16:35:57.526663",
     "exception": false,
     "start_time": "2020-12-21T16:35:57.517332",
     "status": "completed"
    },
    "tags": []
   },
   "source": [
    "## Gravação dos resultados no csv de submissão"
   ]
  },
  {
   "cell_type": "code",
   "execution_count": 6,
   "metadata": {
    "execution": {
     "iopub.execute_input": "2020-12-21T16:35:57.558695Z",
     "iopub.status.busy": "2020-12-21T16:35:57.557849Z",
     "iopub.status.idle": "2020-12-21T16:35:58.016557Z",
     "shell.execute_reply": "2020-12-21T16:35:58.015151Z"
    },
    "papermill": {
     "duration": 0.480363,
     "end_time": "2020-12-21T16:35:58.016688",
     "exception": false,
     "start_time": "2020-12-21T16:35:57.536325",
     "status": "completed"
    },
    "tags": []
   },
   "outputs": [],
   "source": [
    "rows = []\n",
    "for file, label in zip(test_files, pred_classes):\n",
    "    row = {'image_id': os.path.basename(file), 'label': int(label)}\n",
    "    rows.append(row)\n",
    "df = pd.DataFrame(rows)\n",
    "df.to_csv('./submission.csv', index=False)"
   ]
  }
 ],
 "metadata": {
  "kernelspec": {
   "display_name": "Python 3",
   "language": "python",
   "name": "python3"
  },
  "language_info": {
   "codemirror_mode": {
    "name": "ipython",
    "version": 3
   },
   "file_extension": ".py",
   "mimetype": "text/x-python",
   "name": "python",
   "nbconvert_exporter": "python",
   "pygments_lexer": "ipython3",
   "version": "3.7.6"
  },
  "papermill": {
   "duration": 43.268278,
   "end_time": "2020-12-21T16:35:58.139613",
   "environment_variables": {},
   "exception": null,
   "input_path": "__notebook__.ipynb",
   "output_path": "__notebook__.ipynb",
   "parameters": {},
   "start_time": "2020-12-21T16:35:14.871335",
   "version": "2.1.0"
  }
 },
 "nbformat": 4,
 "nbformat_minor": 4
}
