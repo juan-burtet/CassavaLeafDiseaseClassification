{
 "cells": [
  {
   "cell_type": "markdown",
   "metadata": {
    "papermill": {
     "duration": 0.008931,
     "end_time": "2020-12-21T17:08:33.299887",
     "exception": false,
     "start_time": "2020-12-21T17:08:33.290956",
     "status": "completed"
    },
    "tags": []
   },
   "source": [
    "# Submissão do Modelo ResNet152 treinado por mais 25 épocas \n",
    "\n",
    "Nesta submissão, foi utilizado o modelo da Resnet512, que foi trinado por 10 épocas para testar. Neste novo teste, o modelo foi treinado por mais 25 épocas, para tentar encontrar um bom resultado."
   ]
  },
  {
   "source": [
    "## Inicialização padrão do Kaggle (sem print)"
   ],
   "cell_type": "markdown",
   "metadata": {}
  },
  {
   "cell_type": "code",
   "execution_count": 1,
   "metadata": {
    "_cell_guid": "b1076dfc-b9ad-4769-8c92-a6c4dae69d19",
    "_uuid": "8f2839f25d086af736a60e9eeb907d3b93b6e0e5",
    "execution": {
     "iopub.execute_input": "2020-12-21T17:08:33.323271Z",
     "iopub.status.busy": "2020-12-21T17:08:33.322612Z",
     "iopub.status.idle": "2020-12-21T17:08:52.467956Z",
     "shell.execute_reply": "2020-12-21T17:08:52.467045Z"
    },
    "papermill": {
     "duration": 19.160065,
     "end_time": "2020-12-21T17:08:52.468086",
     "exception": false,
     "start_time": "2020-12-21T17:08:33.308021",
     "status": "completed"
    },
    "tags": []
   },
   "outputs": [],
   "source": [
    "# This Python 3 environment comes with many helpful analytics libraries installed\n",
    "# It is defined by the kaggle/python Docker image: https://github.com/kaggle/docker-python\n",
    "# For example, here's several helpful packages to load\n",
    "\n",
    "import numpy as np # linear algebra\n",
    "import pandas as pd # data processing, CSV file I/O (e.g. pd.read_csv)\n",
    "\n",
    "# Input data files are available in the read-only \"../input/\" directory\n",
    "# For example, running this (by clicking run or pressing Shift+Enter) will list all files under the input directory\n",
    "\n",
    "import os\n",
    "for dirname, _, filenames in os.walk('/kaggle/input'):\n",
    "    for filename in filenames:\n",
    "        os.path.join(dirname, filename)\n",
    "\n",
    "# You can write up to 20GB to the current directory (/kaggle/working/) that gets preserved as output when you create a version using \"Save & Run All\" \n",
    "# You can also write temporary files to /kaggle/temp/, but they won't be saved outside of the current session"
   ]
  },
  {
   "cell_type": "markdown",
   "metadata": {
    "papermill": {
     "duration": 0.007434,
     "end_time": "2020-12-21T17:08:52.483630",
     "exception": false,
     "start_time": "2020-12-21T17:08:52.476196",
     "status": "completed"
    },
    "tags": []
   },
   "source": [
    "## Importando o fastai"
   ]
  },
  {
   "cell_type": "code",
   "execution_count": 2,
   "metadata": {
    "execution": {
     "iopub.execute_input": "2020-12-21T17:08:52.502980Z",
     "iopub.status.busy": "2020-12-21T17:08:52.502371Z",
     "iopub.status.idle": "2020-12-21T17:08:55.573795Z",
     "shell.execute_reply": "2020-12-21T17:08:55.572643Z"
    },
    "papermill": {
     "duration": 3.082839,
     "end_time": "2020-12-21T17:08:55.573945",
     "exception": false,
     "start_time": "2020-12-21T17:08:52.491106",
     "status": "completed"
    },
    "tags": []
   },
   "outputs": [],
   "source": [
    "from fastai.vision.all import *"
   ]
  },
  {
   "cell_type": "markdown",
   "metadata": {
    "papermill": {
     "duration": 0.00772,
     "end_time": "2020-12-21T17:08:55.589996",
     "exception": false,
     "start_time": "2020-12-21T17:08:55.582276",
     "status": "completed"
    },
    "tags": []
   },
   "source": [
    "## Inicialização do modelo pelo fastai"
   ]
  },
  {
   "cell_type": "code",
   "execution_count": 3,
   "metadata": {
    "execution": {
     "iopub.execute_input": "2020-12-21T17:08:55.612071Z",
     "iopub.status.busy": "2020-12-21T17:08:55.611436Z",
     "iopub.status.idle": "2020-12-21T17:09:03.949021Z",
     "shell.execute_reply": "2020-12-21T17:09:03.947919Z"
    },
    "papermill": {
     "duration": 8.351334,
     "end_time": "2020-12-21T17:09:03.949141",
     "exception": false,
     "start_time": "2020-12-21T17:08:55.597807",
     "status": "completed"
    },
    "tags": []
   },
   "outputs": [],
   "source": [
    "root_path = '/kaggle/input/cassava-leaf-disease-classification/'\n",
    "df_train = pd.read_csv(root_path + 'train.csv')\n",
    "dls = ImageDataLoaders.from_df(df_train, path=root_path+\"train_images/\", item_tfms=Resize(224))\n",
    "learn = cnn_learner(dls, resnet152, metrics=[error_rate,accuracy], pretrained=False)"
   ]
  },
  {
   "cell_type": "markdown",
   "metadata": {
    "papermill": {
     "duration": 0.00868,
     "end_time": "2020-12-21T17:09:03.967896",
     "exception": false,
     "start_time": "2020-12-21T17:09:03.959216",
     "status": "completed"
    },
    "tags": []
   },
   "source": [
    "## Leitura do modelo treinado"
   ]
  },
  {
   "source": [
    "Para rodar esta célula, é necessário fazer o upload do modelo treinado como se fosse um dataset\n",
    "Para isso, clique em \"+ Add Data\" nas opções da esquerda, e faça o upload do modelo salvo (resnet152_tune_25_plus10.pth)\n",
    "Ao adicionar o arquivo, será preciso indicar o nome da pasta. Insira essa mesma pasta na célula abaixo!"
   ],
   "cell_type": "markdown",
   "metadata": {}
  },
  {
   "cell_type": "code",
   "execution_count": 4,
   "metadata": {
    "execution": {
     "iopub.execute_input": "2020-12-21T17:09:04.028754Z",
     "iopub.status.busy": "2020-12-21T17:09:03.998061Z",
     "iopub.status.idle": "2020-12-21T17:09:12.343651Z",
     "shell.execute_reply": "2020-12-21T17:09:12.342772Z"
    },
    "papermill": {
     "duration": 8.367228,
     "end_time": "2020-12-21T17:09:12.343766",
     "exception": false,
     "start_time": "2020-12-21T17:09:03.976538",
     "status": "completed"
    },
    "tags": []
   },
   "outputs": [
    {
     "data": {
      "text/plain": [
       "<fastai.learner.Learner at 0x7f519dbf4a10>"
      ]
     },
     "execution_count": 4,
     "metadata": {},
     "output_type": "execute_result"
    }
   ],
   "source": [
    "nome_pasta = 'resnet512final' # Adicionar o nome que você escolheu\n",
    "\n",
    "model_path = '/kaggle/input/{nome_pasta}'\n",
    "learn.model_dir = model_path\n",
    "learn.load('resnet152_tune_25_plus10')"
   ]
  },
  {
   "cell_type": "markdown",
   "metadata": {
    "papermill": {
     "duration": 0.008706,
     "end_time": "2020-12-21T17:09:12.361381",
     "exception": false,
     "start_time": "2020-12-21T17:09:12.352675",
     "status": "completed"
    },
    "tags": []
   },
   "source": [
    "## Predição dos dados de teste"
   ]
  },
  {
   "cell_type": "code",
   "execution_count": 5,
   "metadata": {
    "execution": {
     "iopub.execute_input": "2020-12-21T17:09:12.383204Z",
     "iopub.status.busy": "2020-12-21T17:09:12.382634Z",
     "iopub.status.idle": "2020-12-21T17:09:13.594129Z",
     "shell.execute_reply": "2020-12-21T17:09:13.594614Z"
    },
    "papermill": {
     "duration": 1.224952,
     "end_time": "2020-12-21T17:09:13.594759",
     "exception": false,
     "start_time": "2020-12-21T17:09:12.369807",
     "status": "completed"
    },
    "tags": []
   },
   "outputs": [
    {
     "data": {
      "text/html": [],
      "text/plain": [
       "<IPython.core.display.HTML object>"
      ]
     },
     "metadata": {},
     "output_type": "display_data"
    }
   ],
   "source": [
    "test_files = get_image_files('../input/cassava-leaf-disease-classification/test_images')\n",
    "test_dl = learn.dls.test_dl(test_files, with_label=True)\n",
    "pred_probas, x, pred_classes = learn.get_preds(dl=test_dl, with_decoded=True) "
   ]
  },
  {
   "cell_type": "markdown",
   "metadata": {
    "papermill": {
     "duration": 0.008929,
     "end_time": "2020-12-21T17:09:13.613469",
     "exception": false,
     "start_time": "2020-12-21T17:09:13.604540",
     "status": "completed"
    },
    "tags": []
   },
   "source": [
    "## Gravação dos resultados no csv de submissão"
   ]
  },
  {
   "cell_type": "code",
   "execution_count": 6,
   "metadata": {
    "execution": {
     "iopub.execute_input": "2020-12-21T17:09:13.640073Z",
     "iopub.status.busy": "2020-12-21T17:09:13.639499Z",
     "iopub.status.idle": "2020-12-21T17:09:13.980894Z",
     "shell.execute_reply": "2020-12-21T17:09:13.981566Z"
    },
    "papermill": {
     "duration": 0.358754,
     "end_time": "2020-12-21T17:09:13.981733",
     "exception": false,
     "start_time": "2020-12-21T17:09:13.622979",
     "status": "completed"
    },
    "tags": []
   },
   "outputs": [],
   "source": [
    "rows = []\n",
    "for file, label in zip(test_files, pred_classes):\n",
    "    row = {'image_id': os.path.basename(file), 'label': int(label)}\n",
    "    rows.append(row)\n",
    "df = pd.DataFrame(rows)\n",
    "df.to_csv('./submission.csv', index=False)"
   ]
  }
 ],
 "metadata": {
  "kernelspec": {
   "display_name": "Python 3",
   "language": "python",
   "name": "python3"
  },
  "language_info": {
   "codemirror_mode": {
    "name": "ipython",
    "version": 3
   },
   "file_extension": ".py",
   "mimetype": "text/x-python",
   "name": "python",
   "nbconvert_exporter": "python",
   "pygments_lexer": "ipython3",
   "version": "3.7.6"
  },
  "papermill": {
   "duration": 45.459922,
   "end_time": "2020-12-21T17:09:14.499347",
   "environment_variables": {},
   "exception": null,
   "input_path": "__notebook__.ipynb",
   "output_path": "__notebook__.ipynb",
   "parameters": {},
   "start_time": "2020-12-21T17:08:29.039425",
   "version": "2.1.0"
  }
 },
 "nbformat": 4,
 "nbformat_minor": 4
}