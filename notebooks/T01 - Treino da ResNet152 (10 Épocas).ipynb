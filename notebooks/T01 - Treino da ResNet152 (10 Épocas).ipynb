{
  "nbformat": 4,
  "nbformat_minor": 0,
  "metadata": {
    "colab": {
      "name": "01 - Teste com a Resnet512 - Cassava",
      "provenance": [],
      "collapsed_sections": [],
      "toc_visible": true
    },
    "kernelspec": {
      "name": "python3",
      "display_name": "Python 3"
    },
    "accelerator": "GPU",
    "widgets": {
      "application/vnd.jupyter.widget-state+json": {
        "2e77f1481791475694fd13450b7e66be": {
          "model_module": "@jupyter-widgets/controls",
          "model_name": "HBoxModel",
          "state": {
            "_view_name": "HBoxView",
            "_dom_classes": [],
            "_model_name": "HBoxModel",
            "_view_module": "@jupyter-widgets/controls",
            "_model_module_version": "1.5.0",
            "_view_count": null,
            "_view_module_version": "1.5.0",
            "box_style": "",
            "layout": "IPY_MODEL_e398c9fbbd0943eaaa6f3761413ce36f",
            "_model_module": "@jupyter-widgets/controls",
            "children": [
              "IPY_MODEL_0fea5c96979542c88606d351d9587d0c",
              "IPY_MODEL_9402cbde17614d869d82a6d44e17b808"
            ]
          }
        },
        "e398c9fbbd0943eaaa6f3761413ce36f": {
          "model_module": "@jupyter-widgets/base",
          "model_name": "LayoutModel",
          "state": {
            "_view_name": "LayoutView",
            "grid_template_rows": null,
            "right": null,
            "justify_content": null,
            "_view_module": "@jupyter-widgets/base",
            "overflow": null,
            "_model_module_version": "1.2.0",
            "_view_count": null,
            "flex_flow": null,
            "width": null,
            "min_width": null,
            "border": null,
            "align_items": null,
            "bottom": null,
            "_model_module": "@jupyter-widgets/base",
            "top": null,
            "grid_column": null,
            "overflow_y": null,
            "overflow_x": null,
            "grid_auto_flow": null,
            "grid_area": null,
            "grid_template_columns": null,
            "flex": null,
            "_model_name": "LayoutModel",
            "justify_items": null,
            "grid_row": null,
            "max_height": null,
            "align_content": null,
            "visibility": null,
            "align_self": null,
            "height": null,
            "min_height": null,
            "padding": null,
            "grid_auto_rows": null,
            "grid_gap": null,
            "max_width": null,
            "order": null,
            "_view_module_version": "1.2.0",
            "grid_template_areas": null,
            "object_position": null,
            "object_fit": null,
            "grid_auto_columns": null,
            "margin": null,
            "display": null,
            "left": null
          }
        },
        "0fea5c96979542c88606d351d9587d0c": {
          "model_module": "@jupyter-widgets/controls",
          "model_name": "FloatProgressModel",
          "state": {
            "_view_name": "ProgressView",
            "style": "IPY_MODEL_4796f03d48f04f93a7f6e5cce53ebc4c",
            "_dom_classes": [],
            "description": "100%",
            "_model_name": "FloatProgressModel",
            "bar_style": "success",
            "max": 241530880,
            "_view_module": "@jupyter-widgets/controls",
            "_model_module_version": "1.5.0",
            "value": 241530880,
            "_view_count": null,
            "_view_module_version": "1.5.0",
            "orientation": "horizontal",
            "min": 0,
            "description_tooltip": null,
            "_model_module": "@jupyter-widgets/controls",
            "layout": "IPY_MODEL_d5a54dde87514bd8bc8f5d0a299f1c1c"
          }
        },
        "9402cbde17614d869d82a6d44e17b808": {
          "model_module": "@jupyter-widgets/controls",
          "model_name": "HTMLModel",
          "state": {
            "_view_name": "HTMLView",
            "style": "IPY_MODEL_67a6b77d025a4f79849179c3d1d8fb06",
            "_dom_classes": [],
            "description": "",
            "_model_name": "HTMLModel",
            "placeholder": "​",
            "_view_module": "@jupyter-widgets/controls",
            "_model_module_version": "1.5.0",
            "value": " 230M/230M [00:05&lt;00:00, 42.6MB/s]",
            "_view_count": null,
            "_view_module_version": "1.5.0",
            "description_tooltip": null,
            "_model_module": "@jupyter-widgets/controls",
            "layout": "IPY_MODEL_514c83221aff4b61bc6bbbc8ad533ca6"
          }
        },
        "4796f03d48f04f93a7f6e5cce53ebc4c": {
          "model_module": "@jupyter-widgets/controls",
          "model_name": "ProgressStyleModel",
          "state": {
            "_view_name": "StyleView",
            "_model_name": "ProgressStyleModel",
            "description_width": "initial",
            "_view_module": "@jupyter-widgets/base",
            "_model_module_version": "1.5.0",
            "_view_count": null,
            "_view_module_version": "1.2.0",
            "bar_color": null,
            "_model_module": "@jupyter-widgets/controls"
          }
        },
        "d5a54dde87514bd8bc8f5d0a299f1c1c": {
          "model_module": "@jupyter-widgets/base",
          "model_name": "LayoutModel",
          "state": {
            "_view_name": "LayoutView",
            "grid_template_rows": null,
            "right": null,
            "justify_content": null,
            "_view_module": "@jupyter-widgets/base",
            "overflow": null,
            "_model_module_version": "1.2.0",
            "_view_count": null,
            "flex_flow": null,
            "width": null,
            "min_width": null,
            "border": null,
            "align_items": null,
            "bottom": null,
            "_model_module": "@jupyter-widgets/base",
            "top": null,
            "grid_column": null,
            "overflow_y": null,
            "overflow_x": null,
            "grid_auto_flow": null,
            "grid_area": null,
            "grid_template_columns": null,
            "flex": null,
            "_model_name": "LayoutModel",
            "justify_items": null,
            "grid_row": null,
            "max_height": null,
            "align_content": null,
            "visibility": null,
            "align_self": null,
            "height": null,
            "min_height": null,
            "padding": null,
            "grid_auto_rows": null,
            "grid_gap": null,
            "max_width": null,
            "order": null,
            "_view_module_version": "1.2.0",
            "grid_template_areas": null,
            "object_position": null,
            "object_fit": null,
            "grid_auto_columns": null,
            "margin": null,
            "display": null,
            "left": null
          }
        },
        "67a6b77d025a4f79849179c3d1d8fb06": {
          "model_module": "@jupyter-widgets/controls",
          "model_name": "DescriptionStyleModel",
          "state": {
            "_view_name": "StyleView",
            "_model_name": "DescriptionStyleModel",
            "description_width": "",
            "_view_module": "@jupyter-widgets/base",
            "_model_module_version": "1.5.0",
            "_view_count": null,
            "_view_module_version": "1.2.0",
            "_model_module": "@jupyter-widgets/controls"
          }
        },
        "514c83221aff4b61bc6bbbc8ad533ca6": {
          "model_module": "@jupyter-widgets/base",
          "model_name": "LayoutModel",
          "state": {
            "_view_name": "LayoutView",
            "grid_template_rows": null,
            "right": null,
            "justify_content": null,
            "_view_module": "@jupyter-widgets/base",
            "overflow": null,
            "_model_module_version": "1.2.0",
            "_view_count": null,
            "flex_flow": null,
            "width": null,
            "min_width": null,
            "border": null,
            "align_items": null,
            "bottom": null,
            "_model_module": "@jupyter-widgets/base",
            "top": null,
            "grid_column": null,
            "overflow_y": null,
            "overflow_x": null,
            "grid_auto_flow": null,
            "grid_area": null,
            "grid_template_columns": null,
            "flex": null,
            "_model_name": "LayoutModel",
            "justify_items": null,
            "grid_row": null,
            "max_height": null,
            "align_content": null,
            "visibility": null,
            "align_self": null,
            "height": null,
            "min_height": null,
            "padding": null,
            "grid_auto_rows": null,
            "grid_gap": null,
            "max_width": null,
            "order": null,
            "_view_module_version": "1.2.0",
            "grid_template_areas": null,
            "object_position": null,
            "object_fit": null,
            "grid_auto_columns": null,
            "margin": null,
            "display": null,
            "left": null
          }
        }
      }
    }
  },
  "cells": [
    {
      "cell_type": "markdown",
      "metadata": {
        "id": "mz2MeiGR3GYO"
      },
      "source": [
        "# Obtendo o dataset"
      ]
    },
    {
      "cell_type": "code",
      "metadata": {
        "id": "PaqTAFAzzym8",
        "colab": {
          "base_uri": "https://localhost:8080/"
        },
        "outputId": "b330bc9d-040b-41af-9197-7fc27ae7923b"
      },
      "source": [
        "from google.colab import drive\r\n",
        "drive.mount('/content/gdrive')"
      ],
      "execution_count": null,
      "outputs": [
        {
          "output_type": "stream",
          "text": [
            "Mounted at /content/gdrive\n"
          ],
          "name": "stdout"
        }
      ]
    },
    {
      "cell_type": "code",
      "metadata": {
        "colab": {
          "base_uri": "https://localhost:8080/"
        },
        "id": "9Ld0eqoL27Er",
        "outputId": "38856508-cafc-4587-b9cc-1e5cf82692a5"
      },
      "source": [
        "!wget https://www.dropbox.com/s/ka0bbhrdp5k2nzo/cassava-leaf-disease-classification.zip?dl=0\n",
        "!unzip -qq -n cassava-leaf-disease-classification.zip?dl=0"
      ],
      "execution_count": null,
      "outputs": [
        {
          "output_type": "stream",
          "text": [
            "--2020-12-20 22:19:20--  https://www.dropbox.com/s/ka0bbhrdp5k2nzo/cassava-leaf-disease-classification.zip?dl=0\n",
            "Resolving www.dropbox.com (www.dropbox.com)... 162.125.1.18, 2620:100:601a:18::a27d:712\n",
            "Connecting to www.dropbox.com (www.dropbox.com)|162.125.1.18|:443... connected.\n",
            "HTTP request sent, awaiting response... 301 Moved Permanently\n",
            "Location: /s/raw/ka0bbhrdp5k2nzo/cassava-leaf-disease-classification.zip [following]\n",
            "--2020-12-20 22:19:21--  https://www.dropbox.com/s/raw/ka0bbhrdp5k2nzo/cassava-leaf-disease-classification.zip\n",
            "Reusing existing connection to www.dropbox.com:443.\n",
            "HTTP request sent, awaiting response... 302 Found\n",
            "Location: https://ucd20ec334b6b55b9cc33990db34.dl.dropboxusercontent.com/cd/0/inline/BFcAAYvx3U35H2lkv6u_LTEoxA-Gdz2Zb8p9Bvo6GY89wZNwK26yC1NJyY7f5_LaHkb8gq7A_5Ywoq2n6DfKJjNrxaALxVI3zYgld5CSiSSok2HwQH0iQeFH_7OUB_kDIac/file# [following]\n",
            "--2020-12-20 22:19:21--  https://ucd20ec334b6b55b9cc33990db34.dl.dropboxusercontent.com/cd/0/inline/BFcAAYvx3U35H2lkv6u_LTEoxA-Gdz2Zb8p9Bvo6GY89wZNwK26yC1NJyY7f5_LaHkb8gq7A_5Ywoq2n6DfKJjNrxaALxVI3zYgld5CSiSSok2HwQH0iQeFH_7OUB_kDIac/file\n",
            "Resolving ucd20ec334b6b55b9cc33990db34.dl.dropboxusercontent.com (ucd20ec334b6b55b9cc33990db34.dl.dropboxusercontent.com)... 162.125.1.15, 2620:100:6016:15::a27d:10f\n",
            "Connecting to ucd20ec334b6b55b9cc33990db34.dl.dropboxusercontent.com (ucd20ec334b6b55b9cc33990db34.dl.dropboxusercontent.com)|162.125.1.15|:443... connected.\n",
            "HTTP request sent, awaiting response... 302 Found\n",
            "Location: /cd/0/inline2/BFdDIQR1gFUyvgZYSECBTTSGrle3NdyP8pppiVQ9h06zauBuXCkB5iNBc8uq7Gt8Rdn4e2wx6H6R0T2h9YVd4dq48Wa_IqYZZ2u4BUP2VWR3kvRvOZPobtxPvbkkxRNTvbJZ--JWDOSqRuymNjqgYsor3SfKptXqIINVNh7SEx8IIXiZqtx-Gc45ZvGDYRzZHcNUs4gGpWT6Ly94jUczEgwWCeas7JrhRSqjVOfveqiEWlPrjX2eDwsirzykGRGGlmOJCylTW91VLUOlUxkcrKJuQElJvQNl9bHVT_ddZYq6CBUlGLPGC-hTWyaxNprfyP2C30X0luHrOlPfgTvdJPoBdIZ8qFBFTO-5ijgu5CgNuA/file [following]\n",
            "--2020-12-20 22:19:22--  https://ucd20ec334b6b55b9cc33990db34.dl.dropboxusercontent.com/cd/0/inline2/BFdDIQR1gFUyvgZYSECBTTSGrle3NdyP8pppiVQ9h06zauBuXCkB5iNBc8uq7Gt8Rdn4e2wx6H6R0T2h9YVd4dq48Wa_IqYZZ2u4BUP2VWR3kvRvOZPobtxPvbkkxRNTvbJZ--JWDOSqRuymNjqgYsor3SfKptXqIINVNh7SEx8IIXiZqtx-Gc45ZvGDYRzZHcNUs4gGpWT6Ly94jUczEgwWCeas7JrhRSqjVOfveqiEWlPrjX2eDwsirzykGRGGlmOJCylTW91VLUOlUxkcrKJuQElJvQNl9bHVT_ddZYq6CBUlGLPGC-hTWyaxNprfyP2C30X0luHrOlPfgTvdJPoBdIZ8qFBFTO-5ijgu5CgNuA/file\n",
            "Reusing existing connection to ucd20ec334b6b55b9cc33990db34.dl.dropboxusercontent.com:443.\n",
            "HTTP request sent, awaiting response... 200 OK\n",
            "Length: 6185662420 (5.8G) [application/zip]\n",
            "Saving to: ‘cassava-leaf-disease-classification.zip?dl=0’\n",
            "\n",
            "cassava-leaf-diseas 100%[===================>]   5.76G  41.2MB/s    in 2m 4s   \n",
            "\n",
            "2020-12-20 22:21:27 (47.4 MB/s) - ‘cassava-leaf-disease-classification.zip?dl=0’ saved [6185662420/6185662420]\n",
            "\n"
          ],
          "name": "stdout"
        }
      ]
    },
    {
      "cell_type": "code",
      "metadata": {
        "colab": {
          "base_uri": "https://localhost:8080/",
          "height": 204
        },
        "id": "SI6Nf_M_3brE",
        "outputId": "f02fd3cd-29f6-4cbf-b4ca-c22b9c93357d"
      },
      "source": [
        "import pandas as pd\n",
        "\n",
        "df_train = pd.read_csv(\"train.csv\")\n",
        "df_train.head()"
      ],
      "execution_count": null,
      "outputs": [
        {
          "output_type": "execute_result",
          "data": {
            "text/html": [
              "<div>\n",
              "<style scoped>\n",
              "    .dataframe tbody tr th:only-of-type {\n",
              "        vertical-align: middle;\n",
              "    }\n",
              "\n",
              "    .dataframe tbody tr th {\n",
              "        vertical-align: top;\n",
              "    }\n",
              "\n",
              "    .dataframe thead th {\n",
              "        text-align: right;\n",
              "    }\n",
              "</style>\n",
              "<table border=\"1\" class=\"dataframe\">\n",
              "  <thead>\n",
              "    <tr style=\"text-align: right;\">\n",
              "      <th></th>\n",
              "      <th>image_id</th>\n",
              "      <th>label</th>\n",
              "    </tr>\n",
              "  </thead>\n",
              "  <tbody>\n",
              "    <tr>\n",
              "      <th>0</th>\n",
              "      <td>1000015157.jpg</td>\n",
              "      <td>0</td>\n",
              "    </tr>\n",
              "    <tr>\n",
              "      <th>1</th>\n",
              "      <td>1000201771.jpg</td>\n",
              "      <td>3</td>\n",
              "    </tr>\n",
              "    <tr>\n",
              "      <th>2</th>\n",
              "      <td>100042118.jpg</td>\n",
              "      <td>1</td>\n",
              "    </tr>\n",
              "    <tr>\n",
              "      <th>3</th>\n",
              "      <td>1000723321.jpg</td>\n",
              "      <td>1</td>\n",
              "    </tr>\n",
              "    <tr>\n",
              "      <th>4</th>\n",
              "      <td>1000812911.jpg</td>\n",
              "      <td>3</td>\n",
              "    </tr>\n",
              "  </tbody>\n",
              "</table>\n",
              "</div>"
            ],
            "text/plain": [
              "         image_id  label\n",
              "0  1000015157.jpg      0\n",
              "1  1000201771.jpg      3\n",
              "2   100042118.jpg      1\n",
              "3  1000723321.jpg      1\n",
              "4  1000812911.jpg      3"
            ]
          },
          "metadata": {
            "tags": []
          },
          "execution_count": 3
        }
      ]
    },
    {
      "cell_type": "markdown",
      "metadata": {
        "id": "3IndzP-nPfCJ"
      },
      "source": [
        "# Instalando fastai"
      ]
    },
    {
      "cell_type": "code",
      "metadata": {
        "colab": {
          "base_uri": "https://localhost:8080/"
        },
        "id": "LpaBTFAl3kSv",
        "outputId": "d989474b-df15-4214-dad7-3cadffd7979e"
      },
      "source": [
        "! [ -e /content ] && pip install -Uqq fastai"
      ],
      "execution_count": null,
      "outputs": [
        {
          "output_type": "stream",
          "text": [
            "\u001b[K     |████████████████████████████████| 194kB 9.0MB/s \n",
            "\u001b[K     |████████████████████████████████| 61kB 7.6MB/s \n",
            "\u001b[?25h"
          ],
          "name": "stdout"
        }
      ]
    },
    {
      "cell_type": "code",
      "metadata": {
        "id": "MTx_pIrI3xmN"
      },
      "source": [
        "from fastai.vision.all import *"
      ],
      "execution_count": null,
      "outputs": []
    },
    {
      "cell_type": "markdown",
      "metadata": {
        "id": "eE-0IDwVPh0B"
      },
      "source": [
        "# Carregando o dataset e redimensionando"
      ]
    },
    {
      "cell_type": "code",
      "metadata": {
        "id": "6K8idszy3zo0"
      },
      "source": [
        "dls = ImageDataLoaders.from_df(df_train, path=\"./train_images/\", item_tfms=Resize(224))"
      ],
      "execution_count": null,
      "outputs": []
    },
    {
      "cell_type": "markdown",
      "metadata": {
        "id": "I06kjmn4PodI"
      },
      "source": [
        "# Treinando um modelo"
      ]
    },
    {
      "cell_type": "code",
      "metadata": {
        "colab": {
          "base_uri": "https://localhost:8080/",
          "height": 83,
          "referenced_widgets": [
            "2e77f1481791475694fd13450b7e66be",
            "e398c9fbbd0943eaaa6f3761413ce36f",
            "0fea5c96979542c88606d351d9587d0c",
            "9402cbde17614d869d82a6d44e17b808",
            "4796f03d48f04f93a7f6e5cce53ebc4c",
            "d5a54dde87514bd8bc8f5d0a299f1c1c",
            "67a6b77d025a4f79849179c3d1d8fb06",
            "514c83221aff4b61bc6bbbc8ad533ca6"
          ]
        },
        "id": "G7hIciBM9K8X",
        "outputId": "bc43fa93-e6de-48ca-e596-dd49e0f4c44f"
      },
      "source": [
        "learn = cnn_learner(dls, resnet152, metrics=[error_rate,accuracy], pretrained=True)"
      ],
      "execution_count": null,
      "outputs": [
        {
          "output_type": "stream",
          "text": [
            "Downloading: \"https://download.pytorch.org/models/resnet152-b121ed2d.pth\" to /root/.cache/torch/hub/checkpoints/resnet152-b121ed2d.pth\n"
          ],
          "name": "stderr"
        },
        {
          "output_type": "display_data",
          "data": {
            "application/vnd.jupyter.widget-view+json": {
              "model_id": "2e77f1481791475694fd13450b7e66be",
              "version_minor": 0,
              "version_major": 2
            },
            "text/plain": [
              "HBox(children=(FloatProgress(value=0.0, max=241530880.0), HTML(value='')))"
            ]
          },
          "metadata": {
            "tags": []
          }
        },
        {
          "output_type": "stream",
          "text": [
            "\n"
          ],
          "name": "stdout"
        }
      ]
    },
    {
      "cell_type": "code",
      "metadata": {
        "colab": {
          "base_uri": "https://localhost:8080/",
          "height": 422
        },
        "id": "MCr0H0_AQ3bA",
        "outputId": "501fea99-73bf-4a8e-c449-8b56be225625"
      },
      "source": [
        "learn.fine_tune(10)"
      ],
      "execution_count": 10,
      "outputs": [
        {
          "output_type": "display_data",
          "data": {
            "text/html": [
              "<table border=\"1\" class=\"dataframe\">\n",
              "  <thead>\n",
              "    <tr style=\"text-align: left;\">\n",
              "      <th>epoch</th>\n",
              "      <th>train_loss</th>\n",
              "      <th>valid_loss</th>\n",
              "      <th>error_rate</th>\n",
              "      <th>accuracy</th>\n",
              "      <th>time</th>\n",
              "    </tr>\n",
              "  </thead>\n",
              "  <tbody>\n",
              "    <tr>\n",
              "      <td>0</td>\n",
              "      <td>1.037613</td>\n",
              "      <td>0.725074</td>\n",
              "      <td>0.253330</td>\n",
              "      <td>0.746670</td>\n",
              "      <td>06:58</td>\n",
              "    </tr>\n",
              "  </tbody>\n",
              "</table>"
            ],
            "text/plain": [
              "<IPython.core.display.HTML object>"
            ]
          },
          "metadata": {
            "tags": []
          }
        },
        {
          "output_type": "display_data",
          "data": {
            "text/html": [
              "<table border=\"1\" class=\"dataframe\">\n",
              "  <thead>\n",
              "    <tr style=\"text-align: left;\">\n",
              "      <th>epoch</th>\n",
              "      <th>train_loss</th>\n",
              "      <th>valid_loss</th>\n",
              "      <th>error_rate</th>\n",
              "      <th>accuracy</th>\n",
              "      <th>time</th>\n",
              "    </tr>\n",
              "  </thead>\n",
              "  <tbody>\n",
              "    <tr>\n",
              "      <td>0</td>\n",
              "      <td>0.628696</td>\n",
              "      <td>0.565655</td>\n",
              "      <td>0.193971</td>\n",
              "      <td>0.806029</td>\n",
              "      <td>08:46</td>\n",
              "    </tr>\n",
              "    <tr>\n",
              "      <td>1</td>\n",
              "      <td>0.523427</td>\n",
              "      <td>0.548265</td>\n",
              "      <td>0.182987</td>\n",
              "      <td>0.817013</td>\n",
              "      <td>08:46</td>\n",
              "    </tr>\n",
              "    <tr>\n",
              "      <td>2</td>\n",
              "      <td>0.463925</td>\n",
              "      <td>0.545846</td>\n",
              "      <td>0.182286</td>\n",
              "      <td>0.817714</td>\n",
              "      <td>08:44</td>\n",
              "    </tr>\n",
              "    <tr>\n",
              "      <td>3</td>\n",
              "      <td>0.345384</td>\n",
              "      <td>0.541003</td>\n",
              "      <td>0.169666</td>\n",
              "      <td>0.830334</td>\n",
              "      <td>08:45</td>\n",
              "    </tr>\n",
              "    <tr>\n",
              "      <td>4</td>\n",
              "      <td>0.245161</td>\n",
              "      <td>0.600966</td>\n",
              "      <td>0.176677</td>\n",
              "      <td>0.823323</td>\n",
              "      <td>08:46</td>\n",
              "    </tr>\n",
              "    <tr>\n",
              "      <td>5</td>\n",
              "      <td>0.135170</td>\n",
              "      <td>0.629476</td>\n",
              "      <td>0.171068</td>\n",
              "      <td>0.828932</td>\n",
              "      <td>08:45</td>\n",
              "    </tr>\n",
              "    <tr>\n",
              "      <td>6</td>\n",
              "      <td>0.066445</td>\n",
              "      <td>0.708384</td>\n",
              "      <td>0.153541</td>\n",
              "      <td>0.846459</td>\n",
              "      <td>08:44</td>\n",
              "    </tr>\n",
              "    <tr>\n",
              "      <td>7</td>\n",
              "      <td>0.029062</td>\n",
              "      <td>0.788308</td>\n",
              "      <td>0.162421</td>\n",
              "      <td>0.837579</td>\n",
              "      <td>08:46</td>\n",
              "    </tr>\n",
              "    <tr>\n",
              "      <td>8</td>\n",
              "      <td>0.013606</td>\n",
              "      <td>0.772026</td>\n",
              "      <td>0.155410</td>\n",
              "      <td>0.844590</td>\n",
              "      <td>08:46</td>\n",
              "    </tr>\n",
              "    <tr>\n",
              "      <td>9</td>\n",
              "      <td>0.009845</td>\n",
              "      <td>0.768897</td>\n",
              "      <td>0.153774</td>\n",
              "      <td>0.846226</td>\n",
              "      <td>08:48</td>\n",
              "    </tr>\n",
              "  </tbody>\n",
              "</table>"
            ],
            "text/plain": [
              "<IPython.core.display.HTML object>"
            ]
          },
          "metadata": {
            "tags": []
          }
        }
      ]
    },
    {
      "cell_type": "code",
      "metadata": {
        "id": "nWxkzKyXbQut",
        "colab": {
          "base_uri": "https://localhost:8080/",
          "height": 311
        },
        "outputId": "ba0aeb00-c096-49ac-aa9e-30fd51a21454"
      },
      "source": [
        "interp = ClassificationInterpretation.from_learner(learn)\r\n",
        "interp.plot_confusion_matrix()"
      ],
      "execution_count": 11,
      "outputs": [
        {
          "output_type": "display_data",
          "data": {
            "text/html": [
              ""
            ],
            "text/plain": [
              "<IPython.core.display.HTML object>"
            ]
          },
          "metadata": {
            "tags": []
          }
        },
        {
          "output_type": "display_data",
          "data": {
            "image/png": "[encoded data removed]",
            "text/plain": [
              "<Figure size 432x288 with 1 Axes>"
            ]
          },
          "metadata": {
            "tags": [],
            "needs_background": "light"
          }
        }
      ]
    },
    {
      "cell_type": "code",
      "metadata": {
        "colab": {
          "base_uri": "https://localhost:8080/"
        },
        "id": "GKBIE8fFy6hR",
        "outputId": "be0fcd6d-51b6-4e96-fa8b-f74f55076789"
      },
      "source": [
        "# Aqui gravamos o modelo treinado no Google Drive, com o nome \"meuModelo\", para poder importar no Kaggle e fazer uma submissão\r\n",
        "# https://www.kaggle.com/ricardoaraujo/cassava-submission-template\r\n",
        "\r\n",
        "nome_do_modelo = 'resnet152_tune_10'\r\n",
        "path = F\"/content/gdrive/MyDrive/modelos/{nome_do_modelo}\" \r\n",
        "learn.save(path)"
      ],
      "execution_count": 12,
      "outputs": [
        {
          "output_type": "execute_result",
          "data": {
            "text/plain": [
              "Path('/content/gdrive/MyDrive/modelos/resnet152_tune_10.pth')"
            ]
          },
          "metadata": {
            "tags": []
          },
          "execution_count": 12
        }
      ]
    }
  ]
}