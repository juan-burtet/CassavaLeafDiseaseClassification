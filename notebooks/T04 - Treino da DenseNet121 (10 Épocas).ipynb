{
  "nbformat": 4,
  "nbformat_minor": 0,
  "metadata": {
    "colab": {
      "name": "04 - Teste com a DenseNet121- Cassava",
      "provenance": [],
      "collapsed_sections": []
    },
    "kernelspec": {
      "name": "python3",
      "display_name": "Python 3"
    },
    "accelerator": "GPU",
    "widgets": {
      "application/vnd.jupyter.widget-state+json": {
        "dc0576fc2c7147d1b530373dee7f63d4": {
          "model_module": "@jupyter-widgets/controls",
          "model_name": "HBoxModel",
          "state": {
            "_view_name": "HBoxView",
            "_dom_classes": [],
            "_model_name": "HBoxModel",
            "_view_module": "@jupyter-widgets/controls",
            "_model_module_version": "1.5.0",
            "_view_count": null,
            "_view_module_version": "1.5.0",
            "box_style": "",
            "layout": "IPY_MODEL_0ec3b6c4bb6446c4beb9c09a46384724",
            "_model_module": "@jupyter-widgets/controls",
            "children": [
              "IPY_MODEL_e3e4a43e308043ee9dda0b550ede40e0",
              "IPY_MODEL_6eadd1fa91b44d3c9a6ca338c73324b5"
            ]
          }
        },
        "0ec3b6c4bb6446c4beb9c09a46384724": {
          "model_module": "@jupyter-widgets/base",
          "model_name": "LayoutModel",
          "state": {
            "_view_name": "LayoutView",
            "grid_template_rows": null,
            "right": null,
            "justify_content": null,
            "_view_module": "@jupyter-widgets/base",
            "overflow": null,
            "_model_module_version": "1.2.0",
            "_view_count": null,
            "flex_flow": null,
            "width": null,
            "min_width": null,
            "border": null,
            "align_items": null,
            "bottom": null,
            "_model_module": "@jupyter-widgets/base",
            "top": null,
            "grid_column": null,
            "overflow_y": null,
            "overflow_x": null,
            "grid_auto_flow": null,
            "grid_area": null,
            "grid_template_columns": null,
            "flex": null,
            "_model_name": "LayoutModel",
            "justify_items": null,
            "grid_row": null,
            "max_height": null,
            "align_content": null,
            "visibility": null,
            "align_self": null,
            "height": null,
            "min_height": null,
            "padding": null,
            "grid_auto_rows": null,
            "grid_gap": null,
            "max_width": null,
            "order": null,
            "_view_module_version": "1.2.0",
            "grid_template_areas": null,
            "object_position": null,
            "object_fit": null,
            "grid_auto_columns": null,
            "margin": null,
            "display": null,
            "left": null
          }
        },
        "e3e4a43e308043ee9dda0b550ede40e0": {
          "model_module": "@jupyter-widgets/controls",
          "model_name": "FloatProgressModel",
          "state": {
            "_view_name": "ProgressView",
            "style": "IPY_MODEL_2aa694f599464c93a32c775b3b5be476",
            "_dom_classes": [],
            "description": "100%",
            "_model_name": "FloatProgressModel",
            "bar_style": "success",
            "max": 32342954,
            "_view_module": "@jupyter-widgets/controls",
            "_model_module_version": "1.5.0",
            "value": 32342954,
            "_view_count": null,
            "_view_module_version": "1.5.0",
            "orientation": "horizontal",
            "min": 0,
            "description_tooltip": null,
            "_model_module": "@jupyter-widgets/controls",
            "layout": "IPY_MODEL_99676907bfe24f57be37a2a4f9979893"
          }
        },
        "6eadd1fa91b44d3c9a6ca338c73324b5": {
          "model_module": "@jupyter-widgets/controls",
          "model_name": "HTMLModel",
          "state": {
            "_view_name": "HTMLView",
            "style": "IPY_MODEL_e734012d7824470884cfa4439996dd8a",
            "_dom_classes": [],
            "description": "",
            "_model_name": "HTMLModel",
            "placeholder": "​",
            "_view_module": "@jupyter-widgets/controls",
            "_model_module_version": "1.5.0",
            "value": " 30.8M/30.8M [00:00&lt;00:00, 99.4MB/s]",
            "_view_count": null,
            "_view_module_version": "1.5.0",
            "description_tooltip": null,
            "_model_module": "@jupyter-widgets/controls",
            "layout": "IPY_MODEL_167a79e9e09b47ae8b8e5703cb84c133"
          }
        },
        "2aa694f599464c93a32c775b3b5be476": {
          "model_module": "@jupyter-widgets/controls",
          "model_name": "ProgressStyleModel",
          "state": {
            "_view_name": "StyleView",
            "_model_name": "ProgressStyleModel",
            "description_width": "initial",
            "_view_module": "@jupyter-widgets/base",
            "_model_module_version": "1.5.0",
            "_view_count": null,
            "_view_module_version": "1.2.0",
            "bar_color": null,
            "_model_module": "@jupyter-widgets/controls"
          }
        },
        "99676907bfe24f57be37a2a4f9979893": {
          "model_module": "@jupyter-widgets/base",
          "model_name": "LayoutModel",
          "state": {
            "_view_name": "LayoutView",
            "grid_template_rows": null,
            "right": null,
            "justify_content": null,
            "_view_module": "@jupyter-widgets/base",
            "overflow": null,
            "_model_module_version": "1.2.0",
            "_view_count": null,
            "flex_flow": null,
            "width": null,
            "min_width": null,
            "border": null,
            "align_items": null,
            "bottom": null,
            "_model_module": "@jupyter-widgets/base",
            "top": null,
            "grid_column": null,
            "overflow_y": null,
            "overflow_x": null,
            "grid_auto_flow": null,
            "grid_area": null,
            "grid_template_columns": null,
            "flex": null,
            "_model_name": "LayoutModel",
            "justify_items": null,
            "grid_row": null,
            "max_height": null,
            "align_content": null,
            "visibility": null,
            "align_self": null,
            "height": null,
            "min_height": null,
            "padding": null,
            "grid_auto_rows": null,
            "grid_gap": null,
            "max_width": null,
            "order": null,
            "_view_module_version": "1.2.0",
            "grid_template_areas": null,
            "object_position": null,
            "object_fit": null,
            "grid_auto_columns": null,
            "margin": null,
            "display": null,
            "left": null
          }
        },
        "e734012d7824470884cfa4439996dd8a": {
          "model_module": "@jupyter-widgets/controls",
          "model_name": "DescriptionStyleModel",
          "state": {
            "_view_name": "StyleView",
            "_model_name": "DescriptionStyleModel",
            "description_width": "",
            "_view_module": "@jupyter-widgets/base",
            "_model_module_version": "1.5.0",
            "_view_count": null,
            "_view_module_version": "1.2.0",
            "_model_module": "@jupyter-widgets/controls"
          }
        },
        "167a79e9e09b47ae8b8e5703cb84c133": {
          "model_module": "@jupyter-widgets/base",
          "model_name": "LayoutModel",
          "state": {
            "_view_name": "LayoutView",
            "grid_template_rows": null,
            "right": null,
            "justify_content": null,
            "_view_module": "@jupyter-widgets/base",
            "overflow": null,
            "_model_module_version": "1.2.0",
            "_view_count": null,
            "flex_flow": null,
            "width": null,
            "min_width": null,
            "border": null,
            "align_items": null,
            "bottom": null,
            "_model_module": "@jupyter-widgets/base",
            "top": null,
            "grid_column": null,
            "overflow_y": null,
            "overflow_x": null,
            "grid_auto_flow": null,
            "grid_area": null,
            "grid_template_columns": null,
            "flex": null,
            "_model_name": "LayoutModel",
            "justify_items": null,
            "grid_row": null,
            "max_height": null,
            "align_content": null,
            "visibility": null,
            "align_self": null,
            "height": null,
            "min_height": null,
            "padding": null,
            "grid_auto_rows": null,
            "grid_gap": null,
            "max_width": null,
            "order": null,
            "_view_module_version": "1.2.0",
            "grid_template_areas": null,
            "object_position": null,
            "object_fit": null,
            "grid_auto_columns": null,
            "margin": null,
            "display": null,
            "left": null
          }
        }
      }
    }
  },
  "cells": [
    {
      "cell_type": "markdown",
      "metadata": {
        "id": "mz2MeiGR3GYO"
      },
      "source": [
        "# Obtendo o dataset"
      ]
    },
    {
      "cell_type": "code",
      "metadata": {
        "id": "PaqTAFAzzym8",
        "colab": {
          "base_uri": "https://localhost:8080/"
        },
        "outputId": "7043e1f9-5fe4-49f0-f10b-d1cba35e70af"
      },
      "source": [
        "from google.colab import drive\r\n",
        "drive.mount('/content/gdrive')"
      ],
      "execution_count": null,
      "outputs": [
        {
          "output_type": "stream",
          "text": [
            "Drive already mounted at /content/gdrive; to attempt to forcibly remount, call drive.mount(\"/content/gdrive\", force_remount=True).\n"
          ],
          "name": "stdout"
        }
      ]
    },
    {
      "cell_type": "code",
      "metadata": {
        "colab": {
          "base_uri": "https://localhost:8080/"
        },
        "id": "9Ld0eqoL27Er",
        "outputId": "3d8e6772-5dce-4281-9cb2-8f24b43b597e"
      },
      "source": [
        "!wget https://www.dropbox.com/s/ka0bbhrdp5k2nzo/cassava-leaf-disease-classification.zip?dl=0\n",
        "!unzip -qq -n cassava-leaf-disease-classification.zip?dl=0"
      ],
      "execution_count": null,
      "outputs": [
        {
          "output_type": "stream",
          "text": [
            "--2020-12-21 02:12:46--  https://www.dropbox.com/s/ka0bbhrdp5k2nzo/cassava-leaf-disease-classification.zip?dl=0\n",
            "Resolving www.dropbox.com (www.dropbox.com)... 162.125.1.18, 2620:100:6017:18::a27d:212\n",
            "Connecting to www.dropbox.com (www.dropbox.com)|162.125.1.18|:443... connected.\n",
            "HTTP request sent, awaiting response... 301 Moved Permanently\n",
            "Location: /s/raw/ka0bbhrdp5k2nzo/cassava-leaf-disease-classification.zip [following]\n",
            "--2020-12-21 02:12:46--  https://www.dropbox.com/s/raw/ka0bbhrdp5k2nzo/cassava-leaf-disease-classification.zip\n",
            "Reusing existing connection to www.dropbox.com:443.\n",
            "HTTP request sent, awaiting response... 302 Found\n",
            "Location: https://uc6cdbd6ea44d0fdd3b313aab330.dl.dropboxusercontent.com/cd/0/inline/BFdBZ9IbPx46OdmVbL738nn4hhVyz5kgy3acdg96Xu6Afi6P70lvXZnYu_k4nKxLi98oCzVW-qzrbtwBmibWZ9pYx5-kev699BNqDgXjJhszue1U6uuJd67HabBdKruGOIs/file# [following]\n",
            "--2020-12-21 02:12:46--  https://uc6cdbd6ea44d0fdd3b313aab330.dl.dropboxusercontent.com/cd/0/inline/BFdBZ9IbPx46OdmVbL738nn4hhVyz5kgy3acdg96Xu6Afi6P70lvXZnYu_k4nKxLi98oCzVW-qzrbtwBmibWZ9pYx5-kev699BNqDgXjJhszue1U6uuJd67HabBdKruGOIs/file\n",
            "Resolving uc6cdbd6ea44d0fdd3b313aab330.dl.dropboxusercontent.com (uc6cdbd6ea44d0fdd3b313aab330.dl.dropboxusercontent.com)... 162.125.1.15, 2620:100:6016:15::a27d:10f\n",
            "Connecting to uc6cdbd6ea44d0fdd3b313aab330.dl.dropboxusercontent.com (uc6cdbd6ea44d0fdd3b313aab330.dl.dropboxusercontent.com)|162.125.1.15|:443... connected.\n",
            "HTTP request sent, awaiting response... 302 Found\n",
            "Location: /cd/0/inline2/BFdkZ7d9w8uC7b04npO6IGjKWw0uxtlG1x8gPXJa1eeqpyPJfbkw3cIAqbJwr-bLxEr-mlxPrsXQ7ebgdbeZ8R0d7eveHjZFt1MqfuvApfX1-uJm4LMHhgxWqoRvcxJp0rrlWjN3Xa7tXcqXzAYm_WVQ-BLefP7JsXTJAO5LdCQFpZABW4FL7v5Q_WLqhcXcRhdnpqn5Hyx5gb8SqICrwaPBHrHwZwIc9hwouD7XOAoQrBk2KiX-o-Q69az8BeAIh82nMHhY-5D7esvSlzX7NkPUtHXyTnM8gRuVnJeN6GU4t0OE7jRmonjEbziTEa6KnrdBCZz22CIvC2S5N1J0SwWDCjnVK9g7QpffzBOB3H2esg/file [following]\n",
            "--2020-12-21 02:12:47--  https://uc6cdbd6ea44d0fdd3b313aab330.dl.dropboxusercontent.com/cd/0/inline2/BFdkZ7d9w8uC7b04npO6IGjKWw0uxtlG1x8gPXJa1eeqpyPJfbkw3cIAqbJwr-bLxEr-mlxPrsXQ7ebgdbeZ8R0d7eveHjZFt1MqfuvApfX1-uJm4LMHhgxWqoRvcxJp0rrlWjN3Xa7tXcqXzAYm_WVQ-BLefP7JsXTJAO5LdCQFpZABW4FL7v5Q_WLqhcXcRhdnpqn5Hyx5gb8SqICrwaPBHrHwZwIc9hwouD7XOAoQrBk2KiX-o-Q69az8BeAIh82nMHhY-5D7esvSlzX7NkPUtHXyTnM8gRuVnJeN6GU4t0OE7jRmonjEbziTEa6KnrdBCZz22CIvC2S5N1J0SwWDCjnVK9g7QpffzBOB3H2esg/file\n",
            "Reusing existing connection to uc6cdbd6ea44d0fdd3b313aab330.dl.dropboxusercontent.com:443.\n",
            "HTTP request sent, awaiting response... 200 OK\n",
            "Length: 6185662420 (5.8G) [application/zip]\n",
            "Saving to: ‘cassava-leaf-disease-classification.zip?dl=0.1’\n",
            "\n",
            "cassava-leaf-diseas 100%[===================>]   5.76G  44.1MB/s    in 2m 4s   \n",
            "\n",
            "2020-12-21 02:14:51 (47.5 MB/s) - ‘cassava-leaf-disease-classification.zip?dl=0.1’ saved [6185662420/6185662420]\n",
            "\n"
          ],
          "name": "stdout"
        }
      ]
    },
    {
      "cell_type": "code",
      "metadata": {
        "colab": {
          "base_uri": "https://localhost:8080/",
          "height": 204
        },
        "id": "SI6Nf_M_3brE",
        "outputId": "ba904b9e-dd27-4844-8251-877a34af8974"
      },
      "source": [
        "import pandas as pd\n",
        "\n",
        "df_train = pd.read_csv(\"train.csv\")\n",
        "df_train.head()"
      ],
      "execution_count": null,
      "outputs": [
        {
          "output_type": "execute_result",
          "data": {
            "text/html": [
              "<div>\n",
              "<style scoped>\n",
              "    .dataframe tbody tr th:only-of-type {\n",
              "        vertical-align: middle;\n",
              "    }\n",
              "\n",
              "    .dataframe tbody tr th {\n",
              "        vertical-align: top;\n",
              "    }\n",
              "\n",
              "    .dataframe thead th {\n",
              "        text-align: right;\n",
              "    }\n",
              "</style>\n",
              "<table border=\"1\" class=\"dataframe\">\n",
              "  <thead>\n",
              "    <tr style=\"text-align: right;\">\n",
              "      <th></th>\n",
              "      <th>image_id</th>\n",
              "      <th>label</th>\n",
              "    </tr>\n",
              "  </thead>\n",
              "  <tbody>\n",
              "    <tr>\n",
              "      <th>0</th>\n",
              "      <td>1000015157.jpg</td>\n",
              "      <td>0</td>\n",
              "    </tr>\n",
              "    <tr>\n",
              "      <th>1</th>\n",
              "      <td>1000201771.jpg</td>\n",
              "      <td>3</td>\n",
              "    </tr>\n",
              "    <tr>\n",
              "      <th>2</th>\n",
              "      <td>100042118.jpg</td>\n",
              "      <td>1</td>\n",
              "    </tr>\n",
              "    <tr>\n",
              "      <th>3</th>\n",
              "      <td>1000723321.jpg</td>\n",
              "      <td>1</td>\n",
              "    </tr>\n",
              "    <tr>\n",
              "      <th>4</th>\n",
              "      <td>1000812911.jpg</td>\n",
              "      <td>3</td>\n",
              "    </tr>\n",
              "  </tbody>\n",
              "</table>\n",
              "</div>"
            ],
            "text/plain": [
              "         image_id  label\n",
              "0  1000015157.jpg      0\n",
              "1  1000201771.jpg      3\n",
              "2   100042118.jpg      1\n",
              "3  1000723321.jpg      1\n",
              "4  1000812911.jpg      3"
            ]
          },
          "metadata": {
            "tags": []
          },
          "execution_count": 3
        }
      ]
    },
    {
      "cell_type": "markdown",
      "metadata": {
        "id": "3IndzP-nPfCJ"
      },
      "source": [
        "# Instalando fastai"
      ]
    },
    {
      "cell_type": "code",
      "metadata": {
        "id": "LpaBTFAl3kSv"
      },
      "source": [
        "! [ -e /content ] && pip install -Uqq fastai"
      ],
      "execution_count": null,
      "outputs": []
    },
    {
      "cell_type": "code",
      "metadata": {
        "id": "MTx_pIrI3xmN"
      },
      "source": [
        "from fastai.vision.all import *"
      ],
      "execution_count": null,
      "outputs": []
    },
    {
      "cell_type": "markdown",
      "metadata": {
        "id": "eE-0IDwVPh0B"
      },
      "source": [
        "# Carregando o dataset e redimensionando"
      ]
    },
    {
      "cell_type": "code",
      "metadata": {
        "id": "6K8idszy3zo0"
      },
      "source": [
        "dls = ImageDataLoaders.from_df(df_train, path=\"./train_images/\", item_tfms=Resize(224))"
      ],
      "execution_count": null,
      "outputs": []
    },
    {
      "cell_type": "markdown",
      "metadata": {
        "id": "I06kjmn4PodI"
      },
      "source": [
        "# Treinando um modelo"
      ]
    },
    {
      "cell_type": "code",
      "metadata": {
        "colab": {
          "base_uri": "https://localhost:8080/",
          "height": 83,
          "referenced_widgets": [
            "dc0576fc2c7147d1b530373dee7f63d4",
            "0ec3b6c4bb6446c4beb9c09a46384724",
            "e3e4a43e308043ee9dda0b550ede40e0",
            "6eadd1fa91b44d3c9a6ca338c73324b5",
            "2aa694f599464c93a32c775b3b5be476",
            "99676907bfe24f57be37a2a4f9979893",
            "e734012d7824470884cfa4439996dd8a",
            "167a79e9e09b47ae8b8e5703cb84c133"
          ]
        },
        "id": "G7hIciBM9K8X",
        "outputId": "e0193adc-70c6-48d8-8586-e4d9e0f80e84"
      },
      "source": [
        "learn = cnn_learner(dls, densenet121, metrics=[error_rate,accuracy], pretrained=True)"
      ],
      "execution_count": null,
      "outputs": [
        {
          "output_type": "stream",
          "text": [
            "Downloading: \"https://download.pytorch.org/models/densenet121-a639ec97.pth\" to /root/.cache/torch/hub/checkpoints/densenet121-a639ec97.pth\n"
          ],
          "name": "stderr"
        },
        {
          "output_type": "display_data",
          "data": {
            "application/vnd.jupyter.widget-view+json": {
              "model_id": "dc0576fc2c7147d1b530373dee7f63d4",
              "version_minor": 0,
              "version_major": 2
            },
            "text/plain": [
              "HBox(children=(FloatProgress(value=0.0, max=32342954.0), HTML(value='')))"
            ]
          },
          "metadata": {
            "tags": []
          }
        },
        {
          "output_type": "stream",
          "text": [
            "\n"
          ],
          "name": "stdout"
        }
      ]
    },
    {
      "cell_type": "code",
      "metadata": {
        "colab": {
          "base_uri": "https://localhost:8080/",
          "height": 422
        },
        "id": "MCr0H0_AQ3bA",
        "outputId": "584e3237-3df2-4ff2-cbbd-0722a498ab2e"
      },
      "source": [
        "learn.fine_tune(10)"
      ],
      "execution_count": null,
      "outputs": [
        {
          "output_type": "display_data",
          "data": {
            "text/html": [
              "<table border=\"1\" class=\"dataframe\">\n",
              "  <thead>\n",
              "    <tr style=\"text-align: left;\">\n",
              "      <th>epoch</th>\n",
              "      <th>train_loss</th>\n",
              "      <th>valid_loss</th>\n",
              "      <th>error_rate</th>\n",
              "      <th>accuracy</th>\n",
              "      <th>time</th>\n",
              "    </tr>\n",
              "  </thead>\n",
              "  <tbody>\n",
              "    <tr>\n",
              "      <td>0</td>\n",
              "      <td>1.026109</td>\n",
              "      <td>0.713033</td>\n",
              "      <td>0.243515</td>\n",
              "      <td>0.756485</td>\n",
              "      <td>04:31</td>\n",
              "    </tr>\n",
              "  </tbody>\n",
              "</table>"
            ],
            "text/plain": [
              "<IPython.core.display.HTML object>"
            ]
          },
          "metadata": {
            "tags": []
          }
        },
        {
          "output_type": "display_data",
          "data": {
            "text/html": [
              "<table border=\"1\" class=\"dataframe\">\n",
              "  <thead>\n",
              "    <tr style=\"text-align: left;\">\n",
              "      <th>epoch</th>\n",
              "      <th>train_loss</th>\n",
              "      <th>valid_loss</th>\n",
              "      <th>error_rate</th>\n",
              "      <th>accuracy</th>\n",
              "      <th>time</th>\n",
              "    </tr>\n",
              "  </thead>\n",
              "  <tbody>\n",
              "    <tr>\n",
              "      <td>0</td>\n",
              "      <td>0.676371</td>\n",
              "      <td>0.611199</td>\n",
              "      <td>0.200280</td>\n",
              "      <td>0.799720</td>\n",
              "      <td>04:34</td>\n",
              "    </tr>\n",
              "    <tr>\n",
              "      <td>1</td>\n",
              "      <td>0.568341</td>\n",
              "      <td>0.571213</td>\n",
              "      <td>0.193737</td>\n",
              "      <td>0.806263</td>\n",
              "      <td>04:34</td>\n",
              "    </tr>\n",
              "    <tr>\n",
              "      <td>2</td>\n",
              "      <td>0.467480</td>\n",
              "      <td>0.542297</td>\n",
              "      <td>0.181818</td>\n",
              "      <td>0.818182</td>\n",
              "      <td>04:34</td>\n",
              "    </tr>\n",
              "    <tr>\n",
              "      <td>3</td>\n",
              "      <td>0.400125</td>\n",
              "      <td>0.530051</td>\n",
              "      <td>0.176910</td>\n",
              "      <td>0.823089</td>\n",
              "      <td>04:34</td>\n",
              "    </tr>\n",
              "    <tr>\n",
              "      <td>4</td>\n",
              "      <td>0.258296</td>\n",
              "      <td>0.674903</td>\n",
              "      <td>0.193503</td>\n",
              "      <td>0.806497</td>\n",
              "      <td>04:34</td>\n",
              "    </tr>\n",
              "    <tr>\n",
              "      <td>5</td>\n",
              "      <td>0.165537</td>\n",
              "      <td>0.698622</td>\n",
              "      <td>0.174573</td>\n",
              "      <td>0.825427</td>\n",
              "      <td>04:34</td>\n",
              "    </tr>\n",
              "    <tr>\n",
              "      <td>6</td>\n",
              "      <td>0.085580</td>\n",
              "      <td>0.814871</td>\n",
              "      <td>0.187193</td>\n",
              "      <td>0.812807</td>\n",
              "      <td>04:35</td>\n",
              "    </tr>\n",
              "    <tr>\n",
              "      <td>7</td>\n",
              "      <td>0.053171</td>\n",
              "      <td>0.820286</td>\n",
              "      <td>0.172237</td>\n",
              "      <td>0.827763</td>\n",
              "      <td>04:35</td>\n",
              "    </tr>\n",
              "    <tr>\n",
              "      <td>8</td>\n",
              "      <td>0.033278</td>\n",
              "      <td>0.837585</td>\n",
              "      <td>0.170367</td>\n",
              "      <td>0.829633</td>\n",
              "      <td>04:35</td>\n",
              "    </tr>\n",
              "    <tr>\n",
              "      <td>9</td>\n",
              "      <td>0.029573</td>\n",
              "      <td>0.855646</td>\n",
              "      <td>0.170834</td>\n",
              "      <td>0.829166</td>\n",
              "      <td>04:34</td>\n",
              "    </tr>\n",
              "  </tbody>\n",
              "</table>"
            ],
            "text/plain": [
              "<IPython.core.display.HTML object>"
            ]
          },
          "metadata": {
            "tags": []
          }
        }
      ]
    },
    {
      "cell_type": "code",
      "metadata": {
        "id": "nWxkzKyXbQut",
        "colab": {
          "base_uri": "https://localhost:8080/",
          "height": 311
        },
        "outputId": "7893ef98-9784-47ae-94d5-e9b96d97c5e8"
      },
      "source": [
        "interp = ClassificationInterpretation.from_learner(learn)\r\n",
        "interp.plot_confusion_matrix()"
      ],
      "execution_count": null,
      "outputs": [
        {
          "output_type": "display_data",
          "data": {
            "text/html": [
              ""
            ],
            "text/plain": [
              "<IPython.core.display.HTML object>"
            ]
          },
          "metadata": {
            "tags": []
          }
        },
        {
          "output_type": "display_data",
          "data": {
            "image/png": "[encoded data removed]",
            "text/plain": [
              "<Figure size 432x288 with 1 Axes>"
            ]
          },
          "metadata": {
            "tags": [],
            "needs_background": "light"
          }
        }
      ]
    },
    {
      "cell_type": "code",
      "metadata": {
        "id": "GKBIE8fFy6hR",
        "colab": {
          "base_uri": "https://localhost:8080/"
        },
        "outputId": "fb3671dc-fbe3-4cf3-f883-88a78c23cb0a"
      },
      "source": [
        "# Aqui gravamos o modelo treinado no Google Drive, com o nome \"meuModelo\", para poder importar no Kaggle e fazer uma submissão\r\n",
        "# https://www.kaggle.com/ricardoaraujo/cassava-submission-template\r\n",
        "\r\n",
        "nome_do_modelo = 'densenet121_tune_10'\r\n",
        "path = F\"/content/gdrive/MyDrive/modelos/{nome_do_modelo}\" \r\n",
        "learn.save(path)"
      ],
      "execution_count": null,
      "outputs": [
        {
          "output_type": "execute_result",
          "data": {
            "text/plain": [
              "Path('/content/gdrive/MyDrive/modelos/densenet121_tune_10.pth')"
            ]
          },
          "metadata": {
            "tags": []
          },
          "execution_count": 10
        }
      ]
    },
    {
      "cell_type": "code",
      "metadata": {
        "id": "szV2VXwPy6Y1"
      },
      "source": [
        ""
      ],
      "execution_count": null,
      "outputs": []
    }
  ]
}